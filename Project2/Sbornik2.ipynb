{
 "cells": [
  {
   "cell_type": "code",
   "execution_count": 1,
   "id": "fc7efa54",
   "metadata": {},
   "outputs": [],
   "source": [
    "import os\n",
    "import pandas as pd\n",
    "import numpy as np\n",
    "\n",
    "from sqlalchemy import create_engine"
   ]
  },
  {
   "cell_type": "code",
   "execution_count": 2,
   "id": "0017f8e7",
   "metadata": {},
   "outputs": [],
   "source": [
    "path_to_db_local = 'telecomm_csi.db'\n",
    "path_to_db_platform = '/datasets/telecomm_csi.db'\n",
    "path_to_db = None\n",
    "\n",
    "if os.path.exists(path_to_db_local):\n",
    "    path_to_db = path_to_db_local\n",
    "elif os.path.exists(path_to_db_platform):\n",
    "    path_to_db = path_to_db_platform\n",
    "else:\n",
    "    raise Exception('Файл с базой данных SQLite не найден!')\n",
    "\n",
    "if path_to_db:\n",
    "    engine = create_engine(f'sqlite:///{path_to_db}', echo=False)"
   ]
  },
  {
   "cell_type": "code",
   "execution_count": 3,
   "id": "84ebad43",
   "metadata": {},
   "outputs": [],
   "source": [
    "query = \"\"\"\n",
    "SELECT *\n",
    "    FROM user;\n",
    "\"\"\""
   ]
  },
  {
   "cell_type": "code",
   "execution_count": 4,
   "id": "5670a503",
   "metadata": {},
   "outputs": [],
   "source": [
    "query = \"\"\"\n",
    "SELECT user_id, lt_day, \n",
    "CASE\n",
    "    WHEN lt_day <= 365 THEN 'new'\n",
    "    WHEN lt_day > 365 THEN 'old'\n",
    "END AS is_new, \n",
    "age, gender_segment, os_name, cpe_type_name, loc.country, loc.city, a.title AS age_segment, \n",
    "tr.title AS traffic_segment, lt.title AS lifetime_segment, nps_score,\n",
    "CASE\n",
    "    WHEN nps_score > 0 AND nps_score <= 6 THEN 'detractors'\n",
    "    WHEN nps_score > 6 AND nps_score <= 8 THEN 'passives'\n",
    "    WHEN nps_score > 8 AND nps_score <= 10 THEN 'promoters'\n",
    "END AS nps_group\n",
    "FROM user AS u LEFT JOIN (SELECT country, city, location_id\n",
    "                       FROM location)\n",
    "AS loc ON u.location_id = loc.location_id\n",
    "LEFT JOIN (SELECT title, age_gr_id\n",
    "        FROM age_segment)\n",
    "AS a ON u.age_gr_id = a.age_gr_id\n",
    "LEFT JOIN (SELECT title, tr_gr_id\n",
    "        FROM traffic_segment)\n",
    "AS tr ON u.tr_gr_id = tr.tr_gr_id\n",
    "LEFT JOIN (SELECT title, lt_gr_id\n",
    "        FROM lifetime_segment)\n",
    "AS lt ON u.lt_gr_id = lt.lt_gr_id\n",
    "\"\"\""
   ]
  },
  {
   "cell_type": "code",
   "execution_count": 5,
   "id": "72c91ee5",
   "metadata": {},
   "outputs": [
    {
     "data": {
      "text/html": [
       "<div>\n",
       "<style scoped>\n",
       "    .dataframe tbody tr th:only-of-type {\n",
       "        vertical-align: middle;\n",
       "    }\n",
       "\n",
       "    .dataframe tbody tr th {\n",
       "        vertical-align: top;\n",
       "    }\n",
       "\n",
       "    .dataframe thead th {\n",
       "        text-align: right;\n",
       "    }\n",
       "</style>\n",
       "<table border=\"1\" class=\"dataframe\">\n",
       "  <thead>\n",
       "    <tr style=\"text-align: right;\">\n",
       "      <th></th>\n",
       "      <th>user_id</th>\n",
       "      <th>lt_day</th>\n",
       "      <th>is_new</th>\n",
       "      <th>age</th>\n",
       "      <th>gender_segment</th>\n",
       "      <th>os_name</th>\n",
       "      <th>cpe_type_name</th>\n",
       "      <th>country</th>\n",
       "      <th>city</th>\n",
       "      <th>age_segment</th>\n",
       "      <th>traffic_segment</th>\n",
       "      <th>lifetime_segment</th>\n",
       "      <th>nps_score</th>\n",
       "      <th>nps_group</th>\n",
       "    </tr>\n",
       "  </thead>\n",
       "  <tbody>\n",
       "    <tr>\n",
       "      <th>0</th>\n",
       "      <td>A001A2</td>\n",
       "      <td>2320</td>\n",
       "      <td>old</td>\n",
       "      <td>45.0</td>\n",
       "      <td>1.0</td>\n",
       "      <td>ANDROID</td>\n",
       "      <td>SMARTPHONE</td>\n",
       "      <td>Россия</td>\n",
       "      <td>Уфа</td>\n",
       "      <td>05 45-54</td>\n",
       "      <td>04 1-5</td>\n",
       "      <td>08 36+</td>\n",
       "      <td>10</td>\n",
       "      <td>promoters</td>\n",
       "    </tr>\n",
       "    <tr>\n",
       "      <th>1</th>\n",
       "      <td>A001WF</td>\n",
       "      <td>2344</td>\n",
       "      <td>old</td>\n",
       "      <td>53.0</td>\n",
       "      <td>0.0</td>\n",
       "      <td>ANDROID</td>\n",
       "      <td>SMARTPHONE</td>\n",
       "      <td>Россия</td>\n",
       "      <td>Киров</td>\n",
       "      <td>05 45-54</td>\n",
       "      <td>04 1-5</td>\n",
       "      <td>08 36+</td>\n",
       "      <td>10</td>\n",
       "      <td>promoters</td>\n",
       "    </tr>\n",
       "    <tr>\n",
       "      <th>2</th>\n",
       "      <td>A003Q7</td>\n",
       "      <td>467</td>\n",
       "      <td>old</td>\n",
       "      <td>57.0</td>\n",
       "      <td>0.0</td>\n",
       "      <td>ANDROID</td>\n",
       "      <td>SMARTPHONE</td>\n",
       "      <td>Россия</td>\n",
       "      <td>Москва</td>\n",
       "      <td>06 55-64</td>\n",
       "      <td>08 20-25</td>\n",
       "      <td>06 13-24</td>\n",
       "      <td>10</td>\n",
       "      <td>promoters</td>\n",
       "    </tr>\n",
       "    <tr>\n",
       "      <th>3</th>\n",
       "      <td>A004TB</td>\n",
       "      <td>4190</td>\n",
       "      <td>old</td>\n",
       "      <td>44.0</td>\n",
       "      <td>1.0</td>\n",
       "      <td>IOS</td>\n",
       "      <td>SMARTPHONE</td>\n",
       "      <td>Россия</td>\n",
       "      <td>РостовнаДону</td>\n",
       "      <td>04 35-44</td>\n",
       "      <td>03 0.1-1</td>\n",
       "      <td>08 36+</td>\n",
       "      <td>10</td>\n",
       "      <td>promoters</td>\n",
       "    </tr>\n",
       "    <tr>\n",
       "      <th>4</th>\n",
       "      <td>A004XT</td>\n",
       "      <td>1163</td>\n",
       "      <td>old</td>\n",
       "      <td>24.0</td>\n",
       "      <td>0.0</td>\n",
       "      <td>ANDROID</td>\n",
       "      <td>SMARTPHONE</td>\n",
       "      <td>Россия</td>\n",
       "      <td>Рязань</td>\n",
       "      <td>02 16-24</td>\n",
       "      <td>05 5-10</td>\n",
       "      <td>08 36+</td>\n",
       "      <td>10</td>\n",
       "      <td>promoters</td>\n",
       "    </tr>\n",
       "    <tr>\n",
       "      <th>5</th>\n",
       "      <td>A005O0</td>\n",
       "      <td>5501</td>\n",
       "      <td>old</td>\n",
       "      <td>42.0</td>\n",
       "      <td>1.0</td>\n",
       "      <td>ANDROID</td>\n",
       "      <td>SMARTPHONE</td>\n",
       "      <td>Россия</td>\n",
       "      <td>Омск</td>\n",
       "      <td>04 35-44</td>\n",
       "      <td>05 5-10</td>\n",
       "      <td>08 36+</td>\n",
       "      <td>6</td>\n",
       "      <td>detractors</td>\n",
       "    </tr>\n",
       "    <tr>\n",
       "      <th>6</th>\n",
       "      <td>A0061R</td>\n",
       "      <td>1236</td>\n",
       "      <td>old</td>\n",
       "      <td>45.0</td>\n",
       "      <td>0.0</td>\n",
       "      <td>ANDROID</td>\n",
       "      <td>SMARTPHONE</td>\n",
       "      <td>Россия</td>\n",
       "      <td>Уфа</td>\n",
       "      <td>05 45-54</td>\n",
       "      <td>06 10-15</td>\n",
       "      <td>08 36+</td>\n",
       "      <td>10</td>\n",
       "      <td>promoters</td>\n",
       "    </tr>\n",
       "    <tr>\n",
       "      <th>7</th>\n",
       "      <td>A009KS</td>\n",
       "      <td>313</td>\n",
       "      <td>new</td>\n",
       "      <td>35.0</td>\n",
       "      <td>0.0</td>\n",
       "      <td>ANDROID</td>\n",
       "      <td>SMARTPHONE</td>\n",
       "      <td>Россия</td>\n",
       "      <td>Москва</td>\n",
       "      <td>04 35-44</td>\n",
       "      <td>13 45-50</td>\n",
       "      <td>05 7-12</td>\n",
       "      <td>10</td>\n",
       "      <td>promoters</td>\n",
       "    </tr>\n",
       "    <tr>\n",
       "      <th>8</th>\n",
       "      <td>A00AES</td>\n",
       "      <td>3238</td>\n",
       "      <td>old</td>\n",
       "      <td>36.0</td>\n",
       "      <td>1.0</td>\n",
       "      <td>ANDROID</td>\n",
       "      <td>SMARTPHONE</td>\n",
       "      <td>Россия</td>\n",
       "      <td>СанктПетербург</td>\n",
       "      <td>04 35-44</td>\n",
       "      <td>04 1-5</td>\n",
       "      <td>08 36+</td>\n",
       "      <td>10</td>\n",
       "      <td>promoters</td>\n",
       "    </tr>\n",
       "    <tr>\n",
       "      <th>9</th>\n",
       "      <td>A00F70</td>\n",
       "      <td>4479</td>\n",
       "      <td>old</td>\n",
       "      <td>54.0</td>\n",
       "      <td>1.0</td>\n",
       "      <td>ANDROID</td>\n",
       "      <td>SMARTPHONE</td>\n",
       "      <td>Россия</td>\n",
       "      <td>Волгоград</td>\n",
       "      <td>05 45-54</td>\n",
       "      <td>07 15-20</td>\n",
       "      <td>08 36+</td>\n",
       "      <td>9</td>\n",
       "      <td>promoters</td>\n",
       "    </tr>\n",
       "    <tr>\n",
       "      <th>10</th>\n",
       "      <td>A00HL5</td>\n",
       "      <td>5297</td>\n",
       "      <td>old</td>\n",
       "      <td>39.0</td>\n",
       "      <td>0.0</td>\n",
       "      <td>ANDROID</td>\n",
       "      <td>SMARTPHONE</td>\n",
       "      <td>Россия</td>\n",
       "      <td>Тольятти</td>\n",
       "      <td>04 35-44</td>\n",
       "      <td>09 25-30</td>\n",
       "      <td>08 36+</td>\n",
       "      <td>10</td>\n",
       "      <td>promoters</td>\n",
       "    </tr>\n",
       "    <tr>\n",
       "      <th>11</th>\n",
       "      <td>A00NDN</td>\n",
       "      <td>1374</td>\n",
       "      <td>old</td>\n",
       "      <td>21.0</td>\n",
       "      <td>0.0</td>\n",
       "      <td>ANDROID</td>\n",
       "      <td>SMARTPHONE</td>\n",
       "      <td>Россия</td>\n",
       "      <td>Рязань</td>\n",
       "      <td>02 16-24</td>\n",
       "      <td>06 10-15</td>\n",
       "      <td>08 36+</td>\n",
       "      <td>2</td>\n",
       "      <td>detractors</td>\n",
       "    </tr>\n",
       "    <tr>\n",
       "      <th>12</th>\n",
       "      <td>A00P46</td>\n",
       "      <td>179</td>\n",
       "      <td>new</td>\n",
       "      <td>27.0</td>\n",
       "      <td>0.0</td>\n",
       "      <td>ANDROID</td>\n",
       "      <td>SMARTPHONE</td>\n",
       "      <td>Россия</td>\n",
       "      <td>Казань</td>\n",
       "      <td>03 25-34</td>\n",
       "      <td>13 45-50</td>\n",
       "      <td>04 4-6</td>\n",
       "      <td>10</td>\n",
       "      <td>promoters</td>\n",
       "    </tr>\n",
       "    <tr>\n",
       "      <th>13</th>\n",
       "      <td>A00SA7</td>\n",
       "      <td>667</td>\n",
       "      <td>old</td>\n",
       "      <td>60.0</td>\n",
       "      <td>0.0</td>\n",
       "      <td>ANDROID</td>\n",
       "      <td>TABLET</td>\n",
       "      <td>Россия</td>\n",
       "      <td>Казань</td>\n",
       "      <td>06 55-64</td>\n",
       "      <td>05 5-10</td>\n",
       "      <td>06 13-24</td>\n",
       "      <td>5</td>\n",
       "      <td>detractors</td>\n",
       "    </tr>\n",
       "    <tr>\n",
       "      <th>14</th>\n",
       "      <td>A00U8A</td>\n",
       "      <td>2908</td>\n",
       "      <td>old</td>\n",
       "      <td>44.0</td>\n",
       "      <td>1.0</td>\n",
       "      <td>ANDROID</td>\n",
       "      <td>SMARTPHONE</td>\n",
       "      <td>Россия</td>\n",
       "      <td>СанктПетербург</td>\n",
       "      <td>04 35-44</td>\n",
       "      <td>05 5-10</td>\n",
       "      <td>08 36+</td>\n",
       "      <td>10</td>\n",
       "      <td>promoters</td>\n",
       "    </tr>\n",
       "    <tr>\n",
       "      <th>15</th>\n",
       "      <td>A0116Q</td>\n",
       "      <td>2517</td>\n",
       "      <td>old</td>\n",
       "      <td>34.0</td>\n",
       "      <td>0.0</td>\n",
       "      <td>ANDROID</td>\n",
       "      <td>SMARTPHONE</td>\n",
       "      <td>Россия</td>\n",
       "      <td>Самара</td>\n",
       "      <td>03 25-34</td>\n",
       "      <td>07 15-20</td>\n",
       "      <td>08 36+</td>\n",
       "      <td>10</td>\n",
       "      <td>promoters</td>\n",
       "    </tr>\n",
       "    <tr>\n",
       "      <th>16</th>\n",
       "      <td>A015CX</td>\n",
       "      <td>4073</td>\n",
       "      <td>old</td>\n",
       "      <td>47.0</td>\n",
       "      <td>0.0</td>\n",
       "      <td>ANDROID</td>\n",
       "      <td>SMARTPHONE</td>\n",
       "      <td>Россия</td>\n",
       "      <td>Самара</td>\n",
       "      <td>05 45-54</td>\n",
       "      <td>12 40-45</td>\n",
       "      <td>08 36+</td>\n",
       "      <td>9</td>\n",
       "      <td>promoters</td>\n",
       "    </tr>\n",
       "    <tr>\n",
       "      <th>17</th>\n",
       "      <td>A017L3</td>\n",
       "      <td>372</td>\n",
       "      <td>old</td>\n",
       "      <td>37.0</td>\n",
       "      <td>0.0</td>\n",
       "      <td>IOS</td>\n",
       "      <td>SMARTPHONE</td>\n",
       "      <td>Россия</td>\n",
       "      <td>Красноярск</td>\n",
       "      <td>04 35-44</td>\n",
       "      <td>05 5-10</td>\n",
       "      <td>06 13-24</td>\n",
       "      <td>10</td>\n",
       "      <td>promoters</td>\n",
       "    </tr>\n",
       "    <tr>\n",
       "      <th>18</th>\n",
       "      <td>A017QF</td>\n",
       "      <td>6155</td>\n",
       "      <td>old</td>\n",
       "      <td>42.0</td>\n",
       "      <td>1.0</td>\n",
       "      <td>ANDROID</td>\n",
       "      <td>SMARTPHONE</td>\n",
       "      <td>Россия</td>\n",
       "      <td>Екатеринбург</td>\n",
       "      <td>04 35-44</td>\n",
       "      <td>05 5-10</td>\n",
       "      <td>08 36+</td>\n",
       "      <td>8</td>\n",
       "      <td>passives</td>\n",
       "    </tr>\n",
       "    <tr>\n",
       "      <th>19</th>\n",
       "      <td>A018WZ</td>\n",
       "      <td>709</td>\n",
       "      <td>old</td>\n",
       "      <td>43.0</td>\n",
       "      <td>0.0</td>\n",
       "      <td>ANDROID</td>\n",
       "      <td>SMARTPHONE</td>\n",
       "      <td>Россия</td>\n",
       "      <td>Калуга</td>\n",
       "      <td>04 35-44</td>\n",
       "      <td>08 20-25</td>\n",
       "      <td>06 13-24</td>\n",
       "      <td>10</td>\n",
       "      <td>promoters</td>\n",
       "    </tr>\n",
       "  </tbody>\n",
       "</table>\n",
       "</div>"
      ],
      "text/plain": [
       "   user_id  lt_day is_new   age  gender_segment  os_name cpe_type_name  \\\n",
       "0   A001A2    2320    old  45.0             1.0  ANDROID    SMARTPHONE   \n",
       "1   A001WF    2344    old  53.0             0.0  ANDROID    SMARTPHONE   \n",
       "2   A003Q7     467    old  57.0             0.0  ANDROID    SMARTPHONE   \n",
       "3   A004TB    4190    old  44.0             1.0      IOS    SMARTPHONE   \n",
       "4   A004XT    1163    old  24.0             0.0  ANDROID    SMARTPHONE   \n",
       "5   A005O0    5501    old  42.0             1.0  ANDROID    SMARTPHONE   \n",
       "6   A0061R    1236    old  45.0             0.0  ANDROID    SMARTPHONE   \n",
       "7   A009KS     313    new  35.0             0.0  ANDROID    SMARTPHONE   \n",
       "8   A00AES    3238    old  36.0             1.0  ANDROID    SMARTPHONE   \n",
       "9   A00F70    4479    old  54.0             1.0  ANDROID    SMARTPHONE   \n",
       "10  A00HL5    5297    old  39.0             0.0  ANDROID    SMARTPHONE   \n",
       "11  A00NDN    1374    old  21.0             0.0  ANDROID    SMARTPHONE   \n",
       "12  A00P46     179    new  27.0             0.0  ANDROID    SMARTPHONE   \n",
       "13  A00SA7     667    old  60.0             0.0  ANDROID        TABLET   \n",
       "14  A00U8A    2908    old  44.0             1.0  ANDROID    SMARTPHONE   \n",
       "15  A0116Q    2517    old  34.0             0.0  ANDROID    SMARTPHONE   \n",
       "16  A015CX    4073    old  47.0             0.0  ANDROID    SMARTPHONE   \n",
       "17  A017L3     372    old  37.0             0.0      IOS    SMARTPHONE   \n",
       "18  A017QF    6155    old  42.0             1.0  ANDROID    SMARTPHONE   \n",
       "19  A018WZ     709    old  43.0             0.0  ANDROID    SMARTPHONE   \n",
       "\n",
       "   country            city age_segment traffic_segment lifetime_segment  \\\n",
       "0   Россия             Уфа    05 45-54          04 1-5           08 36+   \n",
       "1   Россия           Киров    05 45-54          04 1-5           08 36+   \n",
       "2   Россия          Москва    06 55-64        08 20-25         06 13-24   \n",
       "3   Россия    РостовнаДону    04 35-44        03 0.1-1           08 36+   \n",
       "4   Россия          Рязань    02 16-24         05 5-10           08 36+   \n",
       "5   Россия            Омск    04 35-44         05 5-10           08 36+   \n",
       "6   Россия             Уфа    05 45-54        06 10-15           08 36+   \n",
       "7   Россия          Москва    04 35-44        13 45-50          05 7-12   \n",
       "8   Россия  СанктПетербург    04 35-44          04 1-5           08 36+   \n",
       "9   Россия       Волгоград    05 45-54        07 15-20           08 36+   \n",
       "10  Россия        Тольятти    04 35-44        09 25-30           08 36+   \n",
       "11  Россия          Рязань    02 16-24        06 10-15           08 36+   \n",
       "12  Россия          Казань    03 25-34        13 45-50           04 4-6   \n",
       "13  Россия          Казань    06 55-64         05 5-10         06 13-24   \n",
       "14  Россия  СанктПетербург    04 35-44         05 5-10           08 36+   \n",
       "15  Россия          Самара    03 25-34        07 15-20           08 36+   \n",
       "16  Россия          Самара    05 45-54        12 40-45           08 36+   \n",
       "17  Россия      Красноярск    04 35-44         05 5-10         06 13-24   \n",
       "18  Россия    Екатеринбург    04 35-44         05 5-10           08 36+   \n",
       "19  Россия          Калуга    04 35-44        08 20-25         06 13-24   \n",
       "\n",
       "    nps_score   nps_group  \n",
       "0          10   promoters  \n",
       "1          10   promoters  \n",
       "2          10   promoters  \n",
       "3          10   promoters  \n",
       "4          10   promoters  \n",
       "5           6  detractors  \n",
       "6          10   promoters  \n",
       "7          10   promoters  \n",
       "8          10   promoters  \n",
       "9           9   promoters  \n",
       "10         10   promoters  \n",
       "11          2  detractors  \n",
       "12         10   promoters  \n",
       "13          5  detractors  \n",
       "14         10   promoters  \n",
       "15         10   promoters  \n",
       "16          9   promoters  \n",
       "17         10   promoters  \n",
       "18          8    passives  \n",
       "19         10   promoters  "
      ]
     },
     "execution_count": 5,
     "metadata": {},
     "output_type": "execute_result"
    }
   ],
   "source": [
    "df = pd.read_sql(query,engine)\n",
    "df.head(20)"
   ]
  },
  {
   "cell_type": "code",
   "execution_count": 6,
   "id": "758d5978",
   "metadata": {},
   "outputs": [],
   "source": [
    "df.to_csv('telecomm_csi_tableau.csv', index=False)"
   ]
  },
  {
   "cell_type": "markdown",
   "id": "94cf8e92",
   "metadata": {},
   "source": [
    "[Tableu дашборды](https://public.tableau.com/views/NPSresearch_17073679811040/Story1?:language=en-GB&:display_count=n&:origin=viz_share_link)"
   ]
  },
  {
   "cell_type": "markdown",
   "id": "080dc781",
   "metadata": {},
   "source": [
    "[Презентация](https://drive.google.com/file/d/1jIaPNvAC1n3q40lb_SVHIgsTgz1IWWMT/view?usp=sharing)"
   ]
  }
 ],
 "metadata": {
  "ExecuteTimeLog": [
   {
    "duration": 529,
    "start_time": "2023-06-03T07:07:49.504Z"
   },
   {
    "duration": 132,
    "start_time": "2023-06-03T07:07:54.573Z"
   },
   {
    "duration": 3,
    "start_time": "2023-06-03T10:00:33.422Z"
   },
   {
    "duration": 5915,
    "start_time": "2023-06-03T10:00:34.732Z"
   },
   {
    "duration": 3875,
    "start_time": "2023-06-03T10:00:40.657Z"
   },
   {
    "duration": 193,
    "start_time": "2023-06-03T10:04:36.216Z"
   },
   {
    "duration": 129,
    "start_time": "2023-06-03T10:04:52.398Z"
   },
   {
    "duration": 4,
    "start_time": "2023-06-03T10:05:53.183Z"
   },
   {
    "duration": 3,
    "start_time": "2023-06-03T10:06:06.204Z"
   },
   {
    "duration": 3,
    "start_time": "2023-06-03T10:06:19.984Z"
   },
   {
    "duration": 8,
    "start_time": "2023-06-04T10:35:40.862Z"
   },
   {
    "duration": 84,
    "start_time": "2023-06-04T10:36:04.474Z"
   },
   {
    "duration": 573,
    "start_time": "2023-06-04T10:36:10.058Z"
   },
   {
    "duration": 111,
    "start_time": "2023-06-04T10:36:10.633Z"
   },
   {
    "duration": 3,
    "start_time": "2023-06-04T10:36:12.754Z"
   },
   {
    "duration": 5305,
    "start_time": "2023-06-04T10:36:14.238Z"
   },
   {
    "duration": 3491,
    "start_time": "2023-06-04T10:36:19.545Z"
   },
   {
    "duration": 759,
    "start_time": "2023-06-04T10:36:29.591Z"
   },
   {
    "duration": 9,
    "start_time": "2023-06-04T10:38:33.302Z"
   },
   {
    "duration": 34,
    "start_time": "2023-06-04T10:39:51.627Z"
   },
   {
    "duration": 9,
    "start_time": "2023-06-04T10:40:03.444Z"
   },
   {
    "duration": 4806,
    "start_time": "2023-06-04T10:40:22.628Z"
   },
   {
    "duration": 5,
    "start_time": "2023-06-04T10:41:09.804Z"
   },
   {
    "duration": 4271,
    "start_time": "2023-06-04T10:41:10.730Z"
   },
   {
    "duration": 6,
    "start_time": "2023-06-04T10:41:34.319Z"
   },
   {
    "duration": 6,
    "start_time": "2023-06-04T10:43:24.412Z"
   },
   {
    "duration": 4650,
    "start_time": "2023-06-04T10:43:25.211Z"
   },
   {
    "duration": 5,
    "start_time": "2023-06-04T10:51:48.214Z"
   },
   {
    "duration": 485,
    "start_time": "2023-06-04T10:51:49.612Z"
   },
   {
    "duration": 3,
    "start_time": "2023-06-04T10:52:04.969Z"
   },
   {
    "duration": 5122,
    "start_time": "2023-06-04T10:52:06.616Z"
   },
   {
    "duration": 4719,
    "start_time": "2023-06-04T10:52:51.811Z"
   },
   {
    "duration": 3,
    "start_time": "2023-06-04T11:01:44.160Z"
   },
   {
    "duration": 847,
    "start_time": "2023-06-04T11:01:46.296Z"
   },
   {
    "duration": 3,
    "start_time": "2023-06-04T11:03:21.828Z"
   },
   {
    "duration": 818,
    "start_time": "2023-06-04T11:03:22.799Z"
   },
   {
    "duration": 2,
    "start_time": "2023-06-04T11:03:54.450Z"
   },
   {
    "duration": 824,
    "start_time": "2023-06-04T11:03:56.341Z"
   },
   {
    "duration": 3,
    "start_time": "2023-06-04T11:04:36.512Z"
   },
   {
    "duration": 830,
    "start_time": "2023-06-04T11:04:37.915Z"
   },
   {
    "duration": 5,
    "start_time": "2023-06-04T11:05:23.391Z"
   },
   {
    "duration": 4708,
    "start_time": "2023-06-04T11:05:23.915Z"
   },
   {
    "duration": 3,
    "start_time": "2023-06-04T11:05:41.910Z"
   },
   {
    "duration": 3,
    "start_time": "2023-06-04T11:05:42.470Z"
   },
   {
    "duration": 4747,
    "start_time": "2023-06-04T11:05:43.019Z"
   },
   {
    "duration": 3,
    "start_time": "2023-06-04T11:06:46.015Z"
   },
   {
    "duration": 4764,
    "start_time": "2023-06-04T11:06:47.101Z"
   },
   {
    "duration": 3,
    "start_time": "2023-06-04T11:07:56.939Z"
   },
   {
    "duration": 426,
    "start_time": "2023-06-04T11:07:58.507Z"
   },
   {
    "duration": 4,
    "start_time": "2023-06-04T11:08:06.299Z"
   },
   {
    "duration": 439,
    "start_time": "2023-06-04T11:08:07.472Z"
   },
   {
    "duration": 3,
    "start_time": "2023-06-04T11:09:47.342Z"
   },
   {
    "duration": 722,
    "start_time": "2023-06-04T11:09:48.500Z"
   },
   {
    "duration": 2,
    "start_time": "2023-06-04T11:09:59.865Z"
   },
   {
    "duration": 823,
    "start_time": "2023-06-04T11:10:01.140Z"
   },
   {
    "duration": 3,
    "start_time": "2023-06-04T11:10:09.466Z"
   },
   {
    "duration": 764,
    "start_time": "2023-06-04T11:10:10.969Z"
   },
   {
    "duration": 3,
    "start_time": "2023-06-04T11:11:16.046Z"
   },
   {
    "duration": 721,
    "start_time": "2023-06-04T11:11:17.009Z"
   },
   {
    "duration": 3,
    "start_time": "2023-06-04T11:17:04.363Z"
   },
   {
    "duration": 444,
    "start_time": "2023-06-04T11:17:05.370Z"
   },
   {
    "duration": 3,
    "start_time": "2023-06-04T11:17:49.264Z"
   },
   {
    "duration": 423,
    "start_time": "2023-06-04T11:17:50.212Z"
   },
   {
    "duration": 3,
    "start_time": "2023-06-04T11:19:29.915Z"
   },
   {
    "duration": 770,
    "start_time": "2023-06-04T11:19:30.439Z"
   },
   {
    "duration": 6,
    "start_time": "2023-06-04T11:20:00.083Z"
   },
   {
    "duration": 799,
    "start_time": "2023-06-04T11:20:00.540Z"
   },
   {
    "duration": 4,
    "start_time": "2023-06-04T11:20:31.711Z"
   },
   {
    "duration": 4632,
    "start_time": "2023-06-04T11:20:32.898Z"
   },
   {
    "duration": 4,
    "start_time": "2023-06-04T11:20:56.737Z"
   },
   {
    "duration": 7701,
    "start_time": "2023-06-04T11:20:57.094Z"
   },
   {
    "duration": 3,
    "start_time": "2023-06-04T11:21:36.067Z"
   },
   {
    "duration": 421,
    "start_time": "2023-06-04T11:21:37.003Z"
   },
   {
    "duration": 2,
    "start_time": "2023-06-04T11:21:56.160Z"
   },
   {
    "duration": 4,
    "start_time": "2023-06-04T11:22:36.039Z"
   },
   {
    "duration": 6703,
    "start_time": "2023-06-04T11:22:36.501Z"
   },
   {
    "duration": 3,
    "start_time": "2023-06-04T11:24:47.029Z"
   },
   {
    "duration": 6047,
    "start_time": "2023-06-04T11:24:49.915Z"
   },
   {
    "duration": 3,
    "start_time": "2023-06-04T11:28:08.452Z"
   },
   {
    "duration": 465,
    "start_time": "2023-06-04T11:28:10.301Z"
   },
   {
    "duration": 3,
    "start_time": "2023-06-04T11:28:42.561Z"
   },
   {
    "duration": 657,
    "start_time": "2023-06-04T11:28:43.324Z"
   },
   {
    "duration": 3,
    "start_time": "2023-06-04T11:31:48.502Z"
   },
   {
    "duration": 6,
    "start_time": "2023-06-04T11:31:49.374Z"
   },
   {
    "duration": 4,
    "start_time": "2023-06-04T11:31:53.631Z"
   },
   {
    "duration": 5524,
    "start_time": "2023-06-04T11:31:54.566Z"
   },
   {
    "duration": 16,
    "start_time": "2023-06-04T11:32:55.752Z"
   },
   {
    "duration": 6598,
    "start_time": "2023-06-04T11:35:19.822Z"
   },
   {
    "duration": 566,
    "start_time": "2023-06-11T10:12:38.854Z"
   },
   {
    "duration": 62,
    "start_time": "2023-06-11T10:12:39.422Z"
   },
   {
    "duration": 3,
    "start_time": "2023-06-11T10:12:39.486Z"
   },
   {
    "duration": 17,
    "start_time": "2023-06-11T10:12:39.492Z"
   },
   {
    "duration": 7155,
    "start_time": "2023-06-11T10:12:39.513Z"
   },
   {
    "duration": 7300,
    "start_time": "2023-06-11T10:12:46.673Z"
   },
   {
    "duration": 104,
    "start_time": "2023-06-11T10:36:00.761Z"
   },
   {
    "duration": 576,
    "start_time": "2023-06-13T04:27:22.933Z"
   },
   {
    "duration": 25,
    "start_time": "2023-06-13T04:27:23.511Z"
   },
   {
    "duration": 2,
    "start_time": "2023-06-13T04:27:23.538Z"
   },
   {
    "duration": 7,
    "start_time": "2023-06-13T04:27:23.542Z"
   },
   {
    "duration": 7061,
    "start_time": "2023-06-13T04:27:23.550Z"
   },
   {
    "duration": 5059,
    "start_time": "2023-06-13T04:27:30.613Z"
   },
   {
    "duration": 144,
    "start_time": "2023-06-13T11:25:32.154Z"
   },
   {
    "duration": 92,
    "start_time": "2024-02-08T04:54:43.891Z"
   },
   {
    "duration": 82,
    "start_time": "2024-02-08T05:28:37.069Z"
   },
   {
    "duration": 2955,
    "start_time": "2024-02-08T05:28:42.454Z"
   },
   {
    "duration": 3992,
    "start_time": "2024-02-08T05:28:56.991Z"
   },
   {
    "duration": 77,
    "start_time": "2024-02-08T05:29:03.138Z"
   },
   {
    "duration": 78,
    "start_time": "2024-02-08T05:29:15.313Z"
   }
  ],
  "kernelspec": {
   "display_name": "Python 3 (ipykernel)",
   "language": "python",
   "name": "python3"
  },
  "language_info": {
   "codemirror_mode": {
    "name": "ipython",
    "version": 3
   },
   "file_extension": ".py",
   "mimetype": "text/x-python",
   "name": "python",
   "nbconvert_exporter": "python",
   "pygments_lexer": "ipython3",
   "version": "3.9.5"
  },
  "toc": {
   "base_numbering": 1,
   "nav_menu": {},
   "number_sections": true,
   "sideBar": true,
   "skip_h1_title": true,
   "title_cell": "Table of Contents",
   "title_sidebar": "Contents",
   "toc_cell": false,
   "toc_position": {},
   "toc_section_display": true,
   "toc_window_display": false
  }
 },
 "nbformat": 4,
 "nbformat_minor": 5
}
